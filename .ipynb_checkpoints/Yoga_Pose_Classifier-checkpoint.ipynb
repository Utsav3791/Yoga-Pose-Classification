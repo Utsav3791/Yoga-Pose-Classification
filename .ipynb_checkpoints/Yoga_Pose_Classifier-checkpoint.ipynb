{
 "cells": [
  {
   "cell_type": "code",
   "execution_count": 1,
   "metadata": {
    "_cell_guid": "c7a4d8b7-a578-4c81-b04a-81e7835719fa",
    "_uuid": "3cc5a84f-a617-4b38-b76b-6a5535d88472",
    "execution": {
     "iopub.execute_input": "2021-06-02T18:35:10.565677Z",
     "iopub.status.busy": "2021-06-02T18:35:10.565301Z",
     "iopub.status.idle": "2021-06-02T18:35:16.378403Z",
     "shell.execute_reply": "2021-06-02T18:35:16.377462Z",
     "shell.execute_reply.started": "2021-06-02T18:35:10.565597Z"
    },
    "jupyter": {
     "outputs_hidden": false
    }
   },
   "outputs": [],
   "source": [
    "import numpy as np # linear algebra\n",
    "import pandas as pd # data processing, CSV file I/O \n",
    "import os\n",
    "import tensorflow as tf\n",
    "import keras\n",
    "import cv2\n",
    "from PIL import Image\n",
    "import matplotlib.pyplot as plt # to plot pretty figures\n",
    "import seaborn as sns\n",
    "from keras.preprocessing import image\n",
    "from keras.models import Sequential\n",
    "from keras.layers import Conv2D, MaxPool2D, Flatten,Dense,Dropout,BatchNormalization\n",
    "from tensorflow.keras.preprocessing.image import ImageDataGenerator\n",
    "from keras.layers import Input, Lambda, Dense, Flatten\n",
    "from tensorflow.keras.applications import VGG16, InceptionResNetV2 , VGG19\n",
    "from keras import regularizers\n",
    "from tensorflow.keras.optimizers import Adam,RMSprop,SGD,Adamax"
   ]
  },
  {
   "cell_type": "code",
   "execution_count": 2,
   "metadata": {
    "execution": {
     "iopub.execute_input": "2021-06-02T18:35:20.395233Z",
     "iopub.status.busy": "2021-06-02T18:35:20.394889Z",
     "iopub.status.idle": "2021-06-02T18:35:20.401548Z",
     "shell.execute_reply": "2021-06-02T18:35:20.400677Z",
     "shell.execute_reply.started": "2021-06-02T18:35:20.395205Z"
    }
   },
   "outputs": [],
   "source": [
    "from PIL import ImageFile # imports PIL module \n",
    "ImageFile.LOAD_TRUNCATED_IMAGES = True"
   ]
  },
  {
   "cell_type": "code",
   "execution_count": 3,
   "metadata": {
    "execution": {
     "iopub.execute_input": "2021-06-02T18:35:21.541985Z",
     "iopub.status.busy": "2021-06-02T18:35:21.541651Z",
     "iopub.status.idle": "2021-06-02T18:35:21.545805Z",
     "shell.execute_reply": "2021-06-02T18:35:21.544787Z",
     "shell.execute_reply.started": "2021-06-02T18:35:21.541933Z"
    }
   },
   "outputs": [],
   "source": [
    "# directories path\n",
    "train_dir = '../Dataset/Train'\n",
    "test_dir = '../Dataset/Test'"
   ]
  },
  {
   "cell_type": "code",
   "execution_count": 4,
   "metadata": {
    "execution": {
     "iopub.execute_input": "2021-06-02T18:35:22.660378Z",
     "iopub.status.busy": "2021-06-02T18:35:22.660012Z",
     "iopub.status.idle": "2021-06-02T18:35:22.665331Z",
     "shell.execute_reply": "2021-06-02T18:35:22.664310Z",
     "shell.execute_reply.started": "2021-06-02T18:35:22.660342Z"
    }
   },
   "outputs": [],
   "source": [
    "# keras class to augment our images in real time, Data Generators\n",
    "train_datagen = ImageDataGenerator(width_shift_range = 0.1,\n",
    "                                  horizontal_flip = True,\n",
    "                                  rescale = 1./255,\n",
    "                                  validation_split = 0.2)\n",
    "test_datagen = ImageDataGenerator(rescale =1./255,\n",
    "                                 validation_split = 0.2)"
   ]
  },
  {
   "cell_type": "code",
   "execution_count": 5,
   "metadata": {
    "execution": {
     "iopub.execute_input": "2021-06-02T18:35:24.109013Z",
     "iopub.status.busy": "2021-06-02T18:35:24.108650Z",
     "iopub.status.idle": "2021-06-02T18:35:24.533086Z",
     "shell.execute_reply": "2021-06-02T18:35:24.532363Z",
     "shell.execute_reply.started": "2021-06-02T18:35:24.108980Z"
    }
   },
   "outputs": [
    {
     "name": "stdout",
     "output_type": "stream",
     "text": [
      "Found 807 images belonging to 5 classes.\n",
      "Found 92 images belonging to 5 classes.\n"
     ]
    }
   ],
   "source": [
    "train_generator = train_datagen.flow_from_directory(directory = train_dir, # target directory\n",
    "                                                   target_size = (224,224), # All images will be resized to 224 x 224\n",
    "                                                   color_mode = 'rgb',\n",
    "                                                    # Since we use categorical_crossentropy loss, we need binary labels\n",
    "                                                   class_mode = 'categorical',\n",
    "                                                    batch_size = 16,\n",
    "                                                   subset = 'training')\n",
    "validation_generator = test_datagen.flow_from_directory(directory = test_dir,\n",
    "                                                       target_size = (224,224),\n",
    "                                                       color_mode = 'rgb',\n",
    "                                                       class_mode = 'categorical',\n",
    "                                                       batch_size = 16,\n",
    "                                                       subset = 'validation')"
   ]
  },
  {
   "cell_type": "code",
   "execution_count": 6,
   "metadata": {
    "execution": {
     "iopub.execute_input": "2021-06-02T18:35:26.562343Z",
     "iopub.status.busy": "2021-06-02T18:35:26.562009Z",
     "iopub.status.idle": "2021-06-02T18:35:32.680013Z",
     "shell.execute_reply": "2021-06-02T18:35:32.679142Z",
     "shell.execute_reply.started": "2021-06-02T18:35:26.562313Z"
    }
   },
   "outputs": [],
   "source": [
    "# groups a linear stack of layers into a tf.keras.Model \n",
    "model = tf.keras.Sequential()\n",
    "model.add(VGG19(include_top = False,weights = 'imagenet',input_shape= (224,224,3)))\n",
    "model.add(Flatten())\n",
    "model.add(Dense(5,activation = 'softmax'))"
   ]
  },
  {
   "cell_type": "code",
   "execution_count": 7,
   "metadata": {
    "execution": {
     "iopub.execute_input": "2021-06-02T18:36:18.808706Z",
     "iopub.status.busy": "2021-06-02T18:36:18.808378Z",
     "iopub.status.idle": "2021-06-02T18:36:18.819281Z",
     "shell.execute_reply": "2021-06-02T18:36:18.818465Z",
     "shell.execute_reply.started": "2021-06-02T18:36:18.808677Z"
    }
   },
   "outputs": [
    {
     "name": "stdout",
     "output_type": "stream",
     "text": [
      "Model: \"sequential\"\n",
      "_________________________________________________________________\n",
      "Layer (type)                 Output Shape              Param #   \n",
      "=================================================================\n",
      "vgg19 (Functional)           (None, 7, 7, 512)         20024384  \n",
      "_________________________________________________________________\n",
      "module_wrapper (ModuleWrappe (None, 25088)             0         \n",
      "_________________________________________________________________\n",
      "module_wrapper_1 (ModuleWrap (None, 5)                 125445    \n",
      "=================================================================\n",
      "Total params: 20,149,829\n",
      "Trainable params: 20,149,829\n",
      "Non-trainable params: 0\n",
      "_________________________________________________________________\n"
     ]
    }
   ],
   "source": [
    "model.summary()"
   ]
  },
  {
   "cell_type": "code",
   "execution_count": 8,
   "metadata": {
    "execution": {
     "iopub.execute_input": "2021-06-02T18:36:20.228000Z",
     "iopub.status.busy": "2021-06-02T18:36:20.227524Z",
     "iopub.status.idle": "2021-06-02T18:36:20.254775Z",
     "shell.execute_reply": "2021-06-02T18:36:20.253856Z",
     "shell.execute_reply.started": "2021-06-02T18:36:20.227933Z"
    }
   },
   "outputs": [
    {
     "name": "stderr",
     "output_type": "stream",
     "text": [
      "C:\\Users\\utsav\\anaconda3\\lib\\site-packages\\tensorflow\\python\\keras\\optimizer_v2\\optimizer_v2.py:374: UserWarning: The `lr` argument is deprecated, use `learning_rate` instead.\n",
      "  warnings.warn(\n"
     ]
    }
   ],
   "source": [
    "optimizer = Adam(lr = 0.0001)\n",
    "model.compile(loss = \"categorical_crossentropy\",optimizer = optimizer,metrics = ['accuracy'])\n",
    "epochs = 25\n",
    "batch_size = 16"
   ]
  },
  {
   "cell_type": "code",
   "execution_count": 9,
   "metadata": {
    "execution": {
     "iopub.execute_input": "2021-06-02T18:36:21.616005Z",
     "iopub.status.busy": "2021-06-02T18:36:21.615666Z",
     "iopub.status.idle": "2021-06-02T19:33:49.855788Z",
     "shell.execute_reply": "2021-06-02T19:33:49.854912Z",
     "shell.execute_reply.started": "2021-06-02T18:36:21.615970Z"
    }
   },
   "outputs": [
    {
     "name": "stdout",
     "output_type": "stream",
     "text": [
      "Epoch 1/25\n"
     ]
    },
    {
     "name": "stderr",
     "output_type": "stream",
     "text": [
      "C:\\Users\\utsav\\anaconda3\\lib\\site-packages\\PIL\\Image.py:962: UserWarning: Palette images with Transparency expressed in bytes should be converted to RGBA images\n",
      "  warnings.warn(\n"
     ]
    },
    {
     "name": "stdout",
     "output_type": "stream",
     "text": [
      "51/51 [==============================] - 617s 12s/step - loss: 1.0683 - accuracy: 0.5898 - val_loss: 0.1759 - val_accuracy: 0.9239\n",
      "Epoch 2/25\n",
      "51/51 [==============================] - 599s 12s/step - loss: 0.4300 - accuracy: 0.8587 - val_loss: 0.0846 - val_accuracy: 0.9674\n",
      "Epoch 3/25\n",
      "51/51 [==============================] - 646s 13s/step - loss: 0.3577 - accuracy: 0.8922 - val_loss: 0.0490 - val_accuracy: 1.0000\n",
      "Epoch 4/25\n",
      "51/51 [==============================] - 583s 11s/step - loss: 0.2232 - accuracy: 0.9343 - val_loss: 0.0857 - val_accuracy: 0.9783\n",
      "Epoch 5/25\n",
      "51/51 [==============================] - 614s 12s/step - loss: 0.1633 - accuracy: 0.9542 - val_loss: 0.0410 - val_accuracy: 0.9783\n",
      "Epoch 6/25\n",
      "51/51 [==============================] - 740s 15s/step - loss: 0.1523 - accuracy: 0.9517 - val_loss: 0.0993 - val_accuracy: 0.9674\n",
      "Epoch 7/25\n",
      "51/51 [==============================] - 860s 17s/step - loss: 0.1884 - accuracy: 0.9380 - val_loss: 0.0155 - val_accuracy: 1.0000\n",
      "Epoch 8/25\n",
      "51/51 [==============================] - 929s 18s/step - loss: 0.0910 - accuracy: 0.9703 - val_loss: 0.0474 - val_accuracy: 0.9783\n",
      "Epoch 9/25\n",
      "51/51 [==============================] - 692s 14s/step - loss: 0.0724 - accuracy: 0.9752 - val_loss: 0.0184 - val_accuracy: 0.9891\n",
      "Epoch 10/25\n",
      "51/51 [==============================] - 658s 13s/step - loss: 0.0697 - accuracy: 0.9789 - val_loss: 0.0091 - val_accuracy: 1.0000\n",
      "Epoch 11/25\n",
      "51/51 [==============================] - 770s 15s/step - loss: 0.0223 - accuracy: 0.9950 - val_loss: 7.8568e-04 - val_accuracy: 1.0000\n",
      "Epoch 12/25\n",
      "51/51 [==============================] - 615s 12s/step - loss: 0.0903 - accuracy: 0.9752 - val_loss: 0.0646 - val_accuracy: 0.9891\n",
      "Epoch 13/25\n",
      "51/51 [==============================] - 639s 13s/step - loss: 0.0819 - accuracy: 0.9789 - val_loss: 0.0237 - val_accuracy: 0.9891\n",
      "Epoch 14/25\n",
      "51/51 [==============================] - 634s 12s/step - loss: 0.0902 - accuracy: 0.9740 - val_loss: 0.0142 - val_accuracy: 1.0000\n",
      "Epoch 15/25\n",
      "51/51 [==============================] - 619s 12s/step - loss: 0.1089 - accuracy: 0.9603 - val_loss: 0.0013 - val_accuracy: 1.0000\n",
      "Epoch 16/25\n",
      "51/51 [==============================] - 536s 11s/step - loss: 0.1001 - accuracy: 0.9665 - val_loss: 6.8157e-04 - val_accuracy: 1.0000\n",
      "Epoch 17/25\n",
      "51/51 [==============================] - 638s 13s/step - loss: 0.0763 - accuracy: 0.9727 - val_loss: 2.7213e-04 - val_accuracy: 1.0000\n",
      "Epoch 18/25\n",
      "51/51 [==============================] - 663s 13s/step - loss: 0.0934 - accuracy: 0.9814 - val_loss: 0.0067 - val_accuracy: 1.0000\n",
      "Epoch 19/25\n",
      "51/51 [==============================] - 557s 11s/step - loss: 0.0330 - accuracy: 0.9876 - val_loss: 0.0011 - val_accuracy: 1.0000\n",
      "Epoch 20/25\n",
      "51/51 [==============================] - 681s 13s/step - loss: 0.0117 - accuracy: 0.9975 - val_loss: 4.4205e-05 - val_accuracy: 1.0000\n",
      "Epoch 21/25\n",
      "51/51 [==============================] - 797s 16s/step - loss: 0.0177 - accuracy: 0.9926 - val_loss: 2.8129e-04 - val_accuracy: 1.0000\n",
      "Epoch 22/25\n",
      "51/51 [==============================] - 743s 15s/step - loss: 0.0034 - accuracy: 0.9988 - val_loss: 0.0053 - val_accuracy: 1.0000\n",
      "Epoch 23/25\n",
      "51/51 [==============================] - 902s 18s/step - loss: 0.0661 - accuracy: 0.9814 - val_loss: 0.0148 - val_accuracy: 1.0000\n",
      "Epoch 24/25\n",
      "51/51 [==============================] - 857s 17s/step - loss: 0.0778 - accuracy: 0.9752 - val_loss: 0.0029 - val_accuracy: 1.0000\n",
      "Epoch 25/25\n",
      "51/51 [==============================] - 772s 15s/step - loss: 0.0142 - accuracy: 0.9938 - val_loss: 0.0042 - val_accuracy: 1.0000\n"
     ]
    }
   ],
   "source": [
    "history = model.fit(train_generator, epochs = epochs,validation_data = validation_generator)"
   ]
  },
  {
   "cell_type": "code",
   "execution_count": 10,
   "metadata": {
    "execution": {
     "iopub.execute_input": "2021-06-02T19:34:27.387797Z",
     "iopub.status.busy": "2021-06-02T19:34:27.387460Z",
     "iopub.status.idle": "2021-06-02T19:34:27.667502Z",
     "shell.execute_reply": "2021-06-02T19:34:27.666663Z",
     "shell.execute_reply.started": "2021-06-02T19:34:27.387763Z"
    }
   },
   "outputs": [
    {
     "data": {
      "image/png": "[encoded data removed]",
      "text/plain": [
       "<Figure size 864x288 with 2 Axes>"
      ]
     },
     "metadata": {
      "needs_background": "light"
     },
     "output_type": "display_data"
    }
   ],
   "source": [
    "# Plotting graphs\n",
    "fig , ax = plt.subplots(1,2)\n",
    "train_acc = history.history['accuracy']\n",
    "train_loss = history.history['loss']\n",
    "fig.set_size_inches(12,4)\n",
    "\n",
    "# summarize history for accuracy\n",
    "ax[0].plot(history.history['accuracy'])\n",
    "ax[0].plot(history.history['val_accuracy'])\n",
    "ax[0].set_title('Training Accuracy vs Validation Accuracy')\n",
    "ax[0].set_ylabel('Accuracy')\n",
    "ax[0].set_xlabel('Epoch')\n",
    "ax[0].legend(['Train', 'Validation'], loc='upper left')\n",
    "\n",
    "# summarize history for loss\n",
    "ax[1].plot(history.history['loss'])\n",
    "ax[1].plot(history.history['val_loss'])\n",
    "ax[1].set_title('Training Loss vs Validation Loss')\n",
    "ax[1].set_ylabel('Loss')\n",
    "ax[1].set_xlabel('Epoch')\n",
    "ax[1].legend(['Train', 'Validation'], loc='upper left')\n",
    "\n",
    "plt.show()"
   ]
  },
  {
   "cell_type": "code",
   "execution_count": 11,
   "metadata": {
    "execution": {
     "iopub.execute_input": "2021-06-02T19:34:41.405970Z",
     "iopub.status.busy": "2021-06-02T19:34:41.405634Z",
     "iopub.status.idle": "2021-06-02T19:36:53.811115Z",
     "shell.execute_reply": "2021-06-02T19:36:53.810318Z",
     "shell.execute_reply.started": "2021-06-02T19:34:41.405924Z"
    }
   },
   "outputs": [
    {
     "name": "stdout",
     "output_type": "stream",
     "text": [
      "51/51 [==============================] - 149s 3s/step - loss: 0.0160 - accuracy: 0.9950\n",
      "6/6 [==============================] - 17s 3s/step - loss: 0.0042 - accuracy: 1.0000\n",
      "final train accuracy = 99.50 , validation accuracy = 100.00\n"
     ]
    }
   ],
   "source": [
    "# returns the loss value & metrics values for the model in test mode\n",
    "train_loss, train_acc = model.evaluate(train_generator)\n",
    "test_loss, test_acc   = model.evaluate(validation_generator)\n",
    "print(\"final train accuracy = {:.2f} , validation accuracy = {:.2f}\".format(train_acc*100, test_acc*100))"
   ]
  },
  {
   "cell_type": "code",
   "execution_count": null,
   "metadata": {
    "execution": {
     "iopub.execute_input": "2021-06-02T19:38:52.969221Z",
     "iopub.status.busy": "2021-06-02T19:38:52.968851Z",
     "iopub.status.idle": "2021-06-02T19:38:53.398916Z",
     "shell.execute_reply": "2021-06-02T19:38:53.398035Z",
     "shell.execute_reply.started": "2021-06-02T19:38:52.969189Z"
    }
   },
   "outputs": [],
   "source": [
    "# the '.h5' extension indicates that the model should be saved to HDF5.\n",
    "model.save('Yoga_Pose_Classifier.h5')"
   ]
  },
  {
   "cell_type": "code",
   "execution_count": null,
   "metadata": {
    "execution": {
     "iopub.execute_input": "2021-06-02T19:41:04.447356Z",
     "iopub.status.busy": "2021-06-02T19:41:04.447027Z",
     "iopub.status.idle": "2021-06-02T19:41:05.859045Z",
     "shell.execute_reply": "2021-06-02T19:41:05.858170Z",
     "shell.execute_reply.started": "2021-06-02T19:41:04.447329Z"
    }
   },
   "outputs": [],
   "source": [
    "from keras.models import load_model\n",
    "from keras.applications.vgg16 import preprocess_input\n",
    "model = load_model('Yoga_Pose_Classifier.h5')\n",
    "img = image.load_img('../Dataset/Test/downdog/00000000.jpg', target_size=(224, 224))\n",
    "x = image.img_to_array(img)\n",
    "x = np.expand_dims(x, axis=0)\n",
    "img_data = preprocess_input(x)\n",
    "classes = model.predict(img_data)\n",
    "print(classes) "
   ]
  },
  {
   "cell_type": "code",
   "execution_count": null,
   "metadata": {},
   "outputs": [],
   "source": []
  }
 ],
 "metadata": {
  "kernelspec": {
   "display_name": "Python 3",
   "language": "python",
   "name": "python3"
  },
  "language_info": {
   "codemirror_mode": {
    "name": "ipython",
    "version": 3
   },
   "file_extension": ".py",
   "mimetype": "text/x-python",
   "name": "python",
   "nbconvert_exporter": "python",
   "pygments_lexer": "ipython3",
   "version": "3.8.8"
  }
 },
 "nbformat": 4,
 "nbformat_minor": 4
}
